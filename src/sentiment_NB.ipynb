{
 "cells": [
  {
   "cell_type": "markdown",
   "metadata": {},
   "source": [
    "Importing Libraries"
   ]
  },
  {
   "cell_type": "code",
   "execution_count": 91,
   "metadata": {},
   "outputs": [],
   "source": [
    "import emoji\n",
    "import string\n",
    "from sklearn.metrics import ConfusionMatrixDisplay\n",
    "import pandas as pd\n",
    "import numpy as np\n",
    "import matplotlib.pyplot as plt\n",
    "import warnings\n",
    "from sklearn.naive_bayes import MultinomialNB\n",
    "from sklearn.feature_extraction.text import TfidfTransformer\n",
    "from sklearn.feature_extraction.text import TfidfVectorizer\n",
    "from sklearn.metrics import confusion_matrix\n",
    "from nltk.tokenize import word_tokenize\n",
    "from nltk.stem import WordNetLemmatizer\n",
    "from sklearn.naive_bayes import MultinomialNB\n",
    "from sklearn.model_selection import train_test_split, GridSearchCV\n",
    "from sklearn.metrics import accuracy_score, confusion_matrix, classification_report \n",
    "from nltk.corpus import stopwords\n",
    "%matplotlib inline\n",
    "stop = stopwords.words('english')\n",
    "warnings.filterwarnings('ignore')\n",
    "lemmatizer = WordNetLemmatizer()"
   ]
  },
  {
   "cell_type": "markdown",
   "metadata": {},
   "source": [
    "Reading and Processing The Data"
   ]
  },
  {
   "cell_type": "code",
   "execution_count": 92,
   "metadata": {},
   "outputs": [],
   "source": [
    "video_df = pd.read_csv(\"kaggle/input/youtube-statistics/videos-stats.csv\")\n",
    "comm_df = pd.read_csv(\"kaggle/input/youtube-statistics/comments.csv\")\n",
    "\n",
    "# Drop Unnamed: 0 column\n",
    "video_df = video_df.drop(columns=[\"Unnamed: 0\"])\n",
    "comm_df = comm_df.drop(columns=[\"Unnamed: 0\"])\n",
    "\n",
    "# Drop nan values\n",
    "video_df = video_df.dropna()\n",
    "comm_df = comm_df.dropna()\n",
    "\n",
    "# Drop duplicates\n",
    "video_df.drop_duplicates(keep='first', inplace=True)\n",
    "comm_df.drop_duplicates(keep='first', inplace=True)\n",
    "\n",
    "# Cast columns to int\n",
    "video_df[\"Likes\"] = video_df[\"Likes\"].astype(int)\n",
    "video_df[\"Comments\"] = video_df[\"Comments\"].astype(int)\n",
    "video_df[\"Views\"] = video_df[\"Views\"].astype(int)\n",
    "comm_df[\"Likes\"] = comm_df[\"Likes\"].astype(int)\n",
    "comm_df[\"Sentiment\"] = comm_df[\"Sentiment\"].astype(int)\n",
    "\n"
   ]
  },
  {
   "cell_type": "code",
   "execution_count": 93,
   "metadata": {},
   "outputs": [
    {
     "data": {
      "text/html": [
       "<div>\n",
       "<style scoped>\n",
       "    .dataframe tbody tr th:only-of-type {\n",
       "        vertical-align: middle;\n",
       "    }\n",
       "\n",
       "    .dataframe tbody tr th {\n",
       "        vertical-align: top;\n",
       "    }\n",
       "\n",
       "    .dataframe thead th {\n",
       "        text-align: right;\n",
       "    }\n",
       "</style>\n",
       "<table border=\"1\" class=\"dataframe\">\n",
       "  <thead>\n",
       "    <tr style=\"text-align: right;\">\n",
       "      <th></th>\n",
       "      <th>Video ID</th>\n",
       "      <th>Comment</th>\n",
       "      <th>Likes</th>\n",
       "      <th>Sentiment</th>\n",
       "    </tr>\n",
       "  </thead>\n",
       "  <tbody>\n",
       "    <tr>\n",
       "      <th>0</th>\n",
       "      <td>wAZZ-UWGVHI</td>\n",
       "      <td>Let's not forget that Apple Pay in 2014 requir...</td>\n",
       "      <td>95</td>\n",
       "      <td>1</td>\n",
       "    </tr>\n",
       "    <tr>\n",
       "      <th>1</th>\n",
       "      <td>wAZZ-UWGVHI</td>\n",
       "      <td>Here in NZ 50% of retailers don’t even have co...</td>\n",
       "      <td>19</td>\n",
       "      <td>0</td>\n",
       "    </tr>\n",
       "    <tr>\n",
       "      <th>2</th>\n",
       "      <td>wAZZ-UWGVHI</td>\n",
       "      <td>I will forever acknowledge this channel with t...</td>\n",
       "      <td>161</td>\n",
       "      <td>2</td>\n",
       "    </tr>\n",
       "    <tr>\n",
       "      <th>3</th>\n",
       "      <td>wAZZ-UWGVHI</td>\n",
       "      <td>Whenever I go to a place that doesn’t take App...</td>\n",
       "      <td>8</td>\n",
       "      <td>0</td>\n",
       "    </tr>\n",
       "    <tr>\n",
       "      <th>4</th>\n",
       "      <td>wAZZ-UWGVHI</td>\n",
       "      <td>Apple Pay is so convenient, secure, and easy t...</td>\n",
       "      <td>34</td>\n",
       "      <td>2</td>\n",
       "    </tr>\n",
       "    <tr>\n",
       "      <th>...</th>\n",
       "      <td>...</td>\n",
       "      <td>...</td>\n",
       "      <td>...</td>\n",
       "      <td>...</td>\n",
       "    </tr>\n",
       "    <tr>\n",
       "      <th>18404</th>\n",
       "      <td>cyLWtMSry58</td>\n",
       "      <td>I really like the point about engineering tool...</td>\n",
       "      <td>0</td>\n",
       "      <td>2</td>\n",
       "    </tr>\n",
       "    <tr>\n",
       "      <th>18405</th>\n",
       "      <td>cyLWtMSry58</td>\n",
       "      <td>I’ve just started exploring this field. And th...</td>\n",
       "      <td>20</td>\n",
       "      <td>2</td>\n",
       "    </tr>\n",
       "    <tr>\n",
       "      <th>18406</th>\n",
       "      <td>cyLWtMSry58</td>\n",
       "      <td>Excelente video con una pregunta filosófica pr...</td>\n",
       "      <td>1</td>\n",
       "      <td>1</td>\n",
       "    </tr>\n",
       "    <tr>\n",
       "      <th>18407</th>\n",
       "      <td>cyLWtMSry58</td>\n",
       "      <td>Hey Daniel, just discovered your channel a cou...</td>\n",
       "      <td>35</td>\n",
       "      <td>2</td>\n",
       "    </tr>\n",
       "    <tr>\n",
       "      <th>18408</th>\n",
       "      <td>cyLWtMSry58</td>\n",
       "      <td>This is great. Focus is key. A playful approac...</td>\n",
       "      <td>0</td>\n",
       "      <td>2</td>\n",
       "    </tr>\n",
       "  </tbody>\n",
       "</table>\n",
       "<p>18260 rows × 4 columns</p>\n",
       "</div>"
      ],
      "text/plain": [
       "          Video ID                                            Comment  Likes  \\\n",
       "0      wAZZ-UWGVHI  Let's not forget that Apple Pay in 2014 requir...     95   \n",
       "1      wAZZ-UWGVHI  Here in NZ 50% of retailers don’t even have co...     19   \n",
       "2      wAZZ-UWGVHI  I will forever acknowledge this channel with t...    161   \n",
       "3      wAZZ-UWGVHI  Whenever I go to a place that doesn’t take App...      8   \n",
       "4      wAZZ-UWGVHI  Apple Pay is so convenient, secure, and easy t...     34   \n",
       "...            ...                                                ...    ...   \n",
       "18404  cyLWtMSry58  I really like the point about engineering tool...      0   \n",
       "18405  cyLWtMSry58  I’ve just started exploring this field. And th...     20   \n",
       "18406  cyLWtMSry58  Excelente video con una pregunta filosófica pr...      1   \n",
       "18407  cyLWtMSry58  Hey Daniel, just discovered your channel a cou...     35   \n",
       "18408  cyLWtMSry58  This is great. Focus is key. A playful approac...      0   \n",
       "\n",
       "       Sentiment  \n",
       "0              1  \n",
       "1              0  \n",
       "2              2  \n",
       "3              0  \n",
       "4              2  \n",
       "...          ...  \n",
       "18404          2  \n",
       "18405          2  \n",
       "18406          1  \n",
       "18407          2  \n",
       "18408          2  \n",
       "\n",
       "[18260 rows x 4 columns]"
      ]
     },
     "execution_count": 93,
     "metadata": {},
     "output_type": "execute_result"
    }
   ],
   "source": [
    "comm_df"
   ]
  },
  {
   "cell_type": "code",
   "execution_count": 94,
   "metadata": {},
   "outputs": [],
   "source": [
    "comm_df = comm_df.replace(to_replace=[0,1,2], value=[-1,0,1])"
   ]
  },
  {
   "cell_type": "code",
   "execution_count": 95,
   "metadata": {},
   "outputs": [
    {
     "data": {
      "text/html": [
       "<div>\n",
       "<style scoped>\n",
       "    .dataframe tbody tr th:only-of-type {\n",
       "        vertical-align: middle;\n",
       "    }\n",
       "\n",
       "    .dataframe tbody tr th {\n",
       "        vertical-align: top;\n",
       "    }\n",
       "\n",
       "    .dataframe thead th {\n",
       "        text-align: right;\n",
       "    }\n",
       "</style>\n",
       "<table border=\"1\" class=\"dataframe\">\n",
       "  <thead>\n",
       "    <tr style=\"text-align: right;\">\n",
       "      <th></th>\n",
       "      <th>Video ID</th>\n",
       "      <th>Comment</th>\n",
       "      <th>Likes</th>\n",
       "      <th>Sentiment</th>\n",
       "    </tr>\n",
       "  </thead>\n",
       "  <tbody>\n",
       "    <tr>\n",
       "      <th>0</th>\n",
       "      <td>wAZZ-UWGVHI</td>\n",
       "      <td>Let's not forget that Apple Pay in 2014 requir...</td>\n",
       "      <td>95</td>\n",
       "      <td>0</td>\n",
       "    </tr>\n",
       "    <tr>\n",
       "      <th>1</th>\n",
       "      <td>wAZZ-UWGVHI</td>\n",
       "      <td>Here in NZ 50% of retailers don’t even have co...</td>\n",
       "      <td>19</td>\n",
       "      <td>-1</td>\n",
       "    </tr>\n",
       "    <tr>\n",
       "      <th>2</th>\n",
       "      <td>wAZZ-UWGVHI</td>\n",
       "      <td>I will forever acknowledge this channel with t...</td>\n",
       "      <td>161</td>\n",
       "      <td>1</td>\n",
       "    </tr>\n",
       "    <tr>\n",
       "      <th>3</th>\n",
       "      <td>wAZZ-UWGVHI</td>\n",
       "      <td>Whenever I go to a place that doesn’t take App...</td>\n",
       "      <td>8</td>\n",
       "      <td>-1</td>\n",
       "    </tr>\n",
       "    <tr>\n",
       "      <th>4</th>\n",
       "      <td>wAZZ-UWGVHI</td>\n",
       "      <td>Apple Pay is so convenient, secure, and easy t...</td>\n",
       "      <td>34</td>\n",
       "      <td>1</td>\n",
       "    </tr>\n",
       "    <tr>\n",
       "      <th>...</th>\n",
       "      <td>...</td>\n",
       "      <td>...</td>\n",
       "      <td>...</td>\n",
       "      <td>...</td>\n",
       "    </tr>\n",
       "    <tr>\n",
       "      <th>18404</th>\n",
       "      <td>cyLWtMSry58</td>\n",
       "      <td>I really like the point about engineering tool...</td>\n",
       "      <td>-1</td>\n",
       "      <td>1</td>\n",
       "    </tr>\n",
       "    <tr>\n",
       "      <th>18405</th>\n",
       "      <td>cyLWtMSry58</td>\n",
       "      <td>I’ve just started exploring this field. And th...</td>\n",
       "      <td>20</td>\n",
       "      <td>1</td>\n",
       "    </tr>\n",
       "    <tr>\n",
       "      <th>18406</th>\n",
       "      <td>cyLWtMSry58</td>\n",
       "      <td>Excelente video con una pregunta filosófica pr...</td>\n",
       "      <td>0</td>\n",
       "      <td>0</td>\n",
       "    </tr>\n",
       "    <tr>\n",
       "      <th>18407</th>\n",
       "      <td>cyLWtMSry58</td>\n",
       "      <td>Hey Daniel, just discovered your channel a cou...</td>\n",
       "      <td>35</td>\n",
       "      <td>1</td>\n",
       "    </tr>\n",
       "    <tr>\n",
       "      <th>18408</th>\n",
       "      <td>cyLWtMSry58</td>\n",
       "      <td>This is great. Focus is key. A playful approac...</td>\n",
       "      <td>-1</td>\n",
       "      <td>1</td>\n",
       "    </tr>\n",
       "  </tbody>\n",
       "</table>\n",
       "<p>18260 rows × 4 columns</p>\n",
       "</div>"
      ],
      "text/plain": [
       "          Video ID                                            Comment  Likes  \\\n",
       "0      wAZZ-UWGVHI  Let's not forget that Apple Pay in 2014 requir...     95   \n",
       "1      wAZZ-UWGVHI  Here in NZ 50% of retailers don’t even have co...     19   \n",
       "2      wAZZ-UWGVHI  I will forever acknowledge this channel with t...    161   \n",
       "3      wAZZ-UWGVHI  Whenever I go to a place that doesn’t take App...      8   \n",
       "4      wAZZ-UWGVHI  Apple Pay is so convenient, secure, and easy t...     34   \n",
       "...            ...                                                ...    ...   \n",
       "18404  cyLWtMSry58  I really like the point about engineering tool...     -1   \n",
       "18405  cyLWtMSry58  I’ve just started exploring this field. And th...     20   \n",
       "18406  cyLWtMSry58  Excelente video con una pregunta filosófica pr...      0   \n",
       "18407  cyLWtMSry58  Hey Daniel, just discovered your channel a cou...     35   \n",
       "18408  cyLWtMSry58  This is great. Focus is key. A playful approac...     -1   \n",
       "\n",
       "       Sentiment  \n",
       "0              0  \n",
       "1             -1  \n",
       "2              1  \n",
       "3             -1  \n",
       "4              1  \n",
       "...          ...  \n",
       "18404          1  \n",
       "18405          1  \n",
       "18406          0  \n",
       "18407          1  \n",
       "18408          1  \n",
       "\n",
       "[18260 rows x 4 columns]"
      ]
     },
     "execution_count": 95,
     "metadata": {},
     "output_type": "execute_result"
    }
   ],
   "source": [
    "comm_df"
   ]
  },
  {
   "cell_type": "code",
   "execution_count": 96,
   "metadata": {},
   "outputs": [],
   "source": [
    "def clean_text(text):\n",
    "       \n",
    "    # Remove \\r and \\n\n",
    "    text = text.replace('\\r', '').replace('\\n', ' ')\n",
    "\n",
    "    # Remove emojis\n",
    "    text = emoji.demojize(text)\n",
    "\n",
    "    # Tokenize the text\n",
    "    tokens = word_tokenize(text)\n",
    "    \n",
    "    # Convert to lowercase and remove non-alphabetic tokens\n",
    "    tokens = [t.lower() for t in tokens if t.isalpha()]\n",
    "    \n",
    "    # Remove stop words and punctuation, and lemmatize\n",
    "    stop_words = stopwords.words('english')\n",
    "    punctuation = list(string.punctuation)\n",
    "    tokens_to_remove = stop_words + punctuation\n",
    "    lemma = WordNetLemmatizer()\n",
    "    tokens = [lemma.lemmatize(t) for t in tokens if t not in tokens_to_remove]\n",
    "\n",
    "    return ' '.join(tokens)\n",
    "\n",
    "def preprocess_df(df):\n",
    "    # Clean the comments\n",
    "    df['Comment_cleaned'] = df['Comment'].apply(clean_text)\n",
    "\n",
    "    # Add comment lengths\n",
    "    df['Comment Length'] = df['Comment_cleaned'].apply(lambda x: len(str(x).split()))\n",
    "\n",
    "    # Removing empty comments\n",
    "    new_df = df[df['Comment Length'] > 0]\n",
    "\n",
    "    # Remove outliers\n",
    "    new_df = new_df[new_df['Comment Length'] <= 50]\n",
    "    \n",
    "    return new_df"
   ]
  },
  {
   "cell_type": "code",
   "execution_count": 97,
   "metadata": {},
   "outputs": [],
   "source": [
    "new_comm_df = preprocess_df(comm_df)\n",
    "max_seq_len = 50\n",
    "\n",
    "# Define features and target columns\n",
    "X = new_comm_df['Comment_cleaned']\n",
    "y = np.array(new_comm_df['Sentiment'])"
   ]
  },
  {
   "cell_type": "code",
   "execution_count": 98,
   "metadata": {},
   "outputs": [
    {
     "data": {
      "text/html": [
       "<div>\n",
       "<style scoped>\n",
       "    .dataframe tbody tr th:only-of-type {\n",
       "        vertical-align: middle;\n",
       "    }\n",
       "\n",
       "    .dataframe tbody tr th {\n",
       "        vertical-align: top;\n",
       "    }\n",
       "\n",
       "    .dataframe thead th {\n",
       "        text-align: right;\n",
       "    }\n",
       "</style>\n",
       "<table border=\"1\" class=\"dataframe\">\n",
       "  <thead>\n",
       "    <tr style=\"text-align: right;\">\n",
       "      <th></th>\n",
       "      <th>Video ID</th>\n",
       "      <th>Comment</th>\n",
       "      <th>Likes</th>\n",
       "      <th>Sentiment</th>\n",
       "      <th>Comment_cleaned</th>\n",
       "      <th>Comment Length</th>\n",
       "    </tr>\n",
       "  </thead>\n",
       "  <tbody>\n",
       "    <tr>\n",
       "      <th>0</th>\n",
       "      <td>wAZZ-UWGVHI</td>\n",
       "      <td>Let's not forget that Apple Pay in 2014 requir...</td>\n",
       "      <td>95</td>\n",
       "      <td>0</td>\n",
       "      <td>let forget apple pay required brand new iphone...</td>\n",
       "      <td>32</td>\n",
       "    </tr>\n",
       "    <tr>\n",
       "      <th>1</th>\n",
       "      <td>wAZZ-UWGVHI</td>\n",
       "      <td>Here in NZ 50% of retailers don’t even have co...</td>\n",
       "      <td>19</td>\n",
       "      <td>-1</td>\n",
       "      <td>nz retailer even contactless credit card machi...</td>\n",
       "      <td>15</td>\n",
       "    </tr>\n",
       "    <tr>\n",
       "      <th>2</th>\n",
       "      <td>wAZZ-UWGVHI</td>\n",
       "      <td>I will forever acknowledge this channel with t...</td>\n",
       "      <td>161</td>\n",
       "      <td>1</td>\n",
       "      <td>forever acknowledge channel help lesson idea e...</td>\n",
       "      <td>14</td>\n",
       "    </tr>\n",
       "    <tr>\n",
       "      <th>3</th>\n",
       "      <td>wAZZ-UWGVHI</td>\n",
       "      <td>Whenever I go to a place that doesn’t take App...</td>\n",
       "      <td>8</td>\n",
       "      <td>-1</td>\n",
       "      <td>whenever go place take apple pay happen often ...</td>\n",
       "      <td>42</td>\n",
       "    </tr>\n",
       "    <tr>\n",
       "      <th>4</th>\n",
       "      <td>wAZZ-UWGVHI</td>\n",
       "      <td>Apple Pay is so convenient, secure, and easy t...</td>\n",
       "      <td>34</td>\n",
       "      <td>1</td>\n",
       "      <td>apple pay convenient secure easy use used kore...</td>\n",
       "      <td>14</td>\n",
       "    </tr>\n",
       "    <tr>\n",
       "      <th>...</th>\n",
       "      <td>...</td>\n",
       "      <td>...</td>\n",
       "      <td>...</td>\n",
       "      <td>...</td>\n",
       "      <td>...</td>\n",
       "      <td>...</td>\n",
       "    </tr>\n",
       "    <tr>\n",
       "      <th>18404</th>\n",
       "      <td>cyLWtMSry58</td>\n",
       "      <td>I really like the point about engineering tool...</td>\n",
       "      <td>-1</td>\n",
       "      <td>1</td>\n",
       "      <td>really like point engineering toolbox think lo...</td>\n",
       "      <td>30</td>\n",
       "    </tr>\n",
       "    <tr>\n",
       "      <th>18405</th>\n",
       "      <td>cyLWtMSry58</td>\n",
       "      <td>I’ve just started exploring this field. And th...</td>\n",
       "      <td>20</td>\n",
       "      <td>1</td>\n",
       "      <td>started exploring field really good reminder g...</td>\n",
       "      <td>11</td>\n",
       "    </tr>\n",
       "    <tr>\n",
       "      <th>18406</th>\n",
       "      <td>cyLWtMSry58</td>\n",
       "      <td>Excelente video con una pregunta filosófica pr...</td>\n",
       "      <td>0</td>\n",
       "      <td>0</td>\n",
       "      <td>excelente video con una pregunta filosófica pr...</td>\n",
       "      <td>39</td>\n",
       "    </tr>\n",
       "    <tr>\n",
       "      <th>18407</th>\n",
       "      <td>cyLWtMSry58</td>\n",
       "      <td>Hey Daniel, just discovered your channel a cou...</td>\n",
       "      <td>35</td>\n",
       "      <td>1</td>\n",
       "      <td>hey daniel discovered channel couple day ago l...</td>\n",
       "      <td>10</td>\n",
       "    </tr>\n",
       "    <tr>\n",
       "      <th>18408</th>\n",
       "      <td>cyLWtMSry58</td>\n",
       "      <td>This is great. Focus is key. A playful approac...</td>\n",
       "      <td>-1</td>\n",
       "      <td>1</td>\n",
       "      <td>great focus key playful approach also speed th...</td>\n",
       "      <td>39</td>\n",
       "    </tr>\n",
       "  </tbody>\n",
       "</table>\n",
       "<p>17260 rows × 6 columns</p>\n",
       "</div>"
      ],
      "text/plain": [
       "          Video ID                                            Comment  Likes  \\\n",
       "0      wAZZ-UWGVHI  Let's not forget that Apple Pay in 2014 requir...     95   \n",
       "1      wAZZ-UWGVHI  Here in NZ 50% of retailers don’t even have co...     19   \n",
       "2      wAZZ-UWGVHI  I will forever acknowledge this channel with t...    161   \n",
       "3      wAZZ-UWGVHI  Whenever I go to a place that doesn’t take App...      8   \n",
       "4      wAZZ-UWGVHI  Apple Pay is so convenient, secure, and easy t...     34   \n",
       "...            ...                                                ...    ...   \n",
       "18404  cyLWtMSry58  I really like the point about engineering tool...     -1   \n",
       "18405  cyLWtMSry58  I’ve just started exploring this field. And th...     20   \n",
       "18406  cyLWtMSry58  Excelente video con una pregunta filosófica pr...      0   \n",
       "18407  cyLWtMSry58  Hey Daniel, just discovered your channel a cou...     35   \n",
       "18408  cyLWtMSry58  This is great. Focus is key. A playful approac...     -1   \n",
       "\n",
       "       Sentiment                                    Comment_cleaned  \\\n",
       "0              0  let forget apple pay required brand new iphone...   \n",
       "1             -1  nz retailer even contactless credit card machi...   \n",
       "2              1  forever acknowledge channel help lesson idea e...   \n",
       "3             -1  whenever go place take apple pay happen often ...   \n",
       "4              1  apple pay convenient secure easy use used kore...   \n",
       "...          ...                                                ...   \n",
       "18404          1  really like point engineering toolbox think lo...   \n",
       "18405          1  started exploring field really good reminder g...   \n",
       "18406          0  excelente video con una pregunta filosófica pr...   \n",
       "18407          1  hey daniel discovered channel couple day ago l...   \n",
       "18408          1  great focus key playful approach also speed th...   \n",
       "\n",
       "       Comment Length  \n",
       "0                  32  \n",
       "1                  15  \n",
       "2                  14  \n",
       "3                  42  \n",
       "4                  14  \n",
       "...               ...  \n",
       "18404              30  \n",
       "18405              11  \n",
       "18406              39  \n",
       "18407              10  \n",
       "18408              39  \n",
       "\n",
       "[17260 rows x 6 columns]"
      ]
     },
     "execution_count": 98,
     "metadata": {},
     "output_type": "execute_result"
    }
   ],
   "source": [
    "new_comm_df"
   ]
  },
  {
   "cell_type": "code",
   "execution_count": 99,
   "metadata": {},
   "outputs": [],
   "source": [
    "# Functions to plot confusion matrix and calculate accuracy\n",
    "\n",
    "def plot_conf_matrix(y_test, y_pred):\n",
    "    \n",
    "    cm = confusion_matrix(y_test, y_pred)\n",
    "    cmdisp = ConfusionMatrixDisplay(confusion_matrix=cm, display_labels=['Negative', 'Neutral', 'Positive'])\n",
    "    \n",
    "    cmdisp.plot()\n",
    "    plt.show()\n",
    "    \n",
    "def calculate_acc(y_test, y_pred):\n",
    "    accuracy = accuracy_score(y_test, y_pred.round())\n",
    "    print('Accuracy:', accuracy)"
   ]
  },
  {
   "cell_type": "markdown",
   "metadata": {},
   "source": [
    "### Vectorizing and Transforming TF-IDF"
   ]
  },
  {
   "cell_type": "code",
   "execution_count": 100,
   "metadata": {},
   "outputs": [],
   "source": [
    "vectorizer = TfidfVectorizer()\n",
    "X = vectorizer.fit_transform(X).toarray()"
   ]
  },
  {
   "cell_type": "code",
   "execution_count": 101,
   "metadata": {},
   "outputs": [],
   "source": [
    "tfidfconverter = TfidfTransformer()  \n",
    "X = tfidfconverter.fit_transform(X)  "
   ]
  },
  {
   "cell_type": "markdown",
   "metadata": {},
   "source": [
    "Train-Test Split"
   ]
  },
  {
   "cell_type": "code",
   "execution_count": 102,
   "metadata": {},
   "outputs": [],
   "source": [
    "X_train, X_test, y_train, y_test = train_test_split(X, y, test_size=0.15, random_state=24, stratify=y)\n",
    "X_train, X_val, y_train, y_val = train_test_split(X_train, y_train, test_size=0.10, random_state=24, stratify=y_train)"
   ]
  },
  {
   "cell_type": "markdown",
   "metadata": {},
   "source": [
    "### Initializing & Evaluating the Multinomial Naive-Bayes Model"
   ]
  },
  {
   "cell_type": "code",
   "execution_count": 103,
   "metadata": {},
   "outputs": [],
   "source": [
    "NB=MultinomialNB(alpha=1.0, class_prior=None, fit_prior=True)\n",
    "NB.fit(X_train, y_train)\n",
    "y_pred=NB.predict(X_test)"
   ]
  },
  {
   "cell_type": "code",
   "execution_count": 104,
   "metadata": {},
   "outputs": [
    {
     "name": "stdout",
     "output_type": "stream",
     "text": [
      "Accuracy score: 66.63%\n"
     ]
    }
   ],
   "source": [
    "print(f\"Accuracy score: {(accuracy_score(y_test,y_pred) * 100):.2f}%\")"
   ]
  },
  {
   "cell_type": "code",
   "execution_count": 105,
   "metadata": {},
   "outputs": [
    {
     "data": {
      "image/png": "[encoded data removed]",
      "text/plain": [
       "<Figure size 640x480 with 2 Axes>"
      ]
     },
     "metadata": {},
     "output_type": "display_data"
    }
   ],
   "source": [
    "plot_conf_matrix(y_test, y_pred)"
   ]
  },
  {
   "cell_type": "code",
   "execution_count": 106,
   "metadata": {},
   "outputs": [
    {
     "name": "stdout",
     "output_type": "stream",
     "text": [
      "              precision    recall  f1-score   support\n",
      "\n",
      "          -1       0.57      0.01      0.02       328\n",
      "           0       0.74      0.19      0.30       620\n",
      "           1       0.66      0.98      0.79      1641\n",
      "\n",
      "    accuracy                           0.67      2589\n",
      "   macro avg       0.66      0.39      0.37      2589\n",
      "weighted avg       0.67      0.67      0.58      2589\n",
      "\n"
     ]
    }
   ],
   "source": [
    "print(classification_report(y_test, y_pred))"
   ]
  },
  {
   "cell_type": "markdown",
   "metadata": {},
   "source": [
    "### Hyperparameter Tuning with GridSearchCV"
   ]
  },
  {
   "cell_type": "code",
   "execution_count": 107,
   "metadata": {},
   "outputs": [
    {
     "name": "stdout",
     "output_type": "stream",
     "text": [
      "Best parameters: {'alpha': 0.1}\n",
      "Accuracy score: 72.07%\n"
     ]
    }
   ],
   "source": [
    "NB = MultinomialNB(class_prior=None, fit_prior=True)\n",
    "\n",
    "# Define hyperparameter grid\n",
    "param_grid = {'alpha': [0.0001, 0.001, 0.005, 0.1, 0.15, 0.2, 0.5, 1.0, 1.5, 2.0]}\n",
    "\n",
    "# Instantiate GridSearchCV\n",
    "grid_search = GridSearchCV(NB, param_grid, cv=5, scoring='accuracy')\n",
    "\n",
    "# Fit GridSearchCV\n",
    "grid_search.fit(X_train, y_train)\n",
    "\n",
    "# Print best parameters\n",
    "print(\"Best parameters:\", grid_search.best_params_)\n",
    "\n",
    "# Get best model\n",
    "best_model = grid_search.best_estimator_\n",
    "\n",
    "# Predict on test data\n",
    "y_pred = best_model.predict(X_test)\n",
    "\n",
    "# Calculate accuracy\n",
    "accuracy = accuracy_score(y_test, y_pred)\n",
    "print(f\"Accuracy score: {(accuracy_score(y_test,y_pred) * 100):.2f}%\")\n"
   ]
  },
  {
   "cell_type": "code",
   "execution_count": 108,
   "metadata": {},
   "outputs": [
    {
     "data": {
      "image/png": "[encoded data removed]",
      "text/plain": [
       "<Figure size 640x480 with 2 Axes>"
      ]
     },
     "metadata": {},
     "output_type": "display_data"
    }
   ],
   "source": [
    "plot_conf_matrix(y_test, y_pred)"
   ]
  },
  {
   "cell_type": "code",
   "execution_count": 109,
   "metadata": {},
   "outputs": [
    {
     "name": "stdout",
     "output_type": "stream",
     "text": [
      "              precision    recall  f1-score   support\n",
      "\n",
      "          -1       0.64      0.32      0.43       328\n",
      "           0       0.68      0.34      0.45       620\n",
      "           1       0.73      0.94      0.83      1641\n",
      "\n",
      "    accuracy                           0.72      2589\n",
      "   macro avg       0.68      0.54      0.57      2589\n",
      "weighted avg       0.71      0.72      0.69      2589\n",
      "\n"
     ]
    }
   ],
   "source": [
    "print(classification_report(y_test, y_pred))"
   ]
  },
  {
   "cell_type": "markdown",
   "metadata": {},
   "source": [
    "## ***Results***\n",
    "\n",
    "### Before Tuning *(Alpha = 1, default)*\n",
    "\n",
    " ***Accuracy:*** **67%** overall accuracy, indicating a reasonable starting point.\n",
    "\n",
    " ***Class-Specific Performance:***\n",
    "\n",
    "   **-1** ***(Negative)***: Very poor recall *(1%)*, meaning it misses most of the negative comments. Low precision *(57%)* suggests many misclassifications as negative.\n",
    "\n",
    "   **0** ***(Neutral)***: Low recall *(19%)* and moderate precision *(74%)*, indicating difficulties identifying neutral sentiment.\n",
    "\n",
    "   **1** ***(Positive)***: High recall *(98%)*, correctly identifying most positive comments as the majority of dataset is positive, but with lower precision *(66%)*, suggesting some misclassifications as positive.\n",
    "\n",
    "\n"
   ]
  },
  {
   "cell_type": "markdown",
   "metadata": {},
   "source": [
    "### After Tuning *(Alpha = 0.1)*\n",
    "\n",
    "***Accuracy:*** Improved to **72%**, a noticeable gain.\n",
    "\n",
    "***Class-Specific Performance:***\n",
    "\n",
    "**-1** ***(Negative)***: Recall increased significantly *(32%)*, meaning the model now captures more negative comments as it can be seen on confusion matrices. Precision also improved *(64%)*, reducing false positives.\n",
    "\n",
    "**0** ***(Neutral)***: Recall increased slightly *(34%)*, still a challenge but a step forward. Precision improved slightly *(68%)*.\n",
    "\n",
    "**1** ***(Positive)***: Recall remains high *(94%)*, but precision improved *(73%)*, indicating better accuracy in classifying positive comments while decreasing model's tend to predicting as positive for every data."
   ]
  }
 ],
 "metadata": {
  "kernelspec": {
   "display_name": "Python 3",
   "language": "python",
   "name": "python3"
  },
  "language_info": {
   "codemirror_mode": {
    "name": "ipython",
    "version": 3
   },
   "file_extension": ".py",
   "mimetype": "text/x-python",
   "name": "python",
   "nbconvert_exporter": "python",
   "pygments_lexer": "ipython3",
   "version": "3.10.0"
  }
 },
 "nbformat": 4,
 "nbformat_minor": 2
}
